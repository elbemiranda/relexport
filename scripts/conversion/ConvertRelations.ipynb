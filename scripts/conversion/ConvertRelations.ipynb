{
 "cells": [
  {
   "cell_type": "code",
   "execution_count": 38,
   "metadata": {
    "ExecuteTime": {
     "end_time": "2020-12-12T14:50:16.888479Z",
     "start_time": "2020-12-12T14:50:16.885366Z"
    }
   },
   "outputs": [],
   "source": [
    "from nltk.tokenize import word_tokenize\n",
    "import json\n",
    "import numpy as np"
   ]
  },
  {
   "cell_type": "code",
   "execution_count": 2,
   "metadata": {
    "ExecuteTime": {
     "end_time": "2020-12-12T14:18:00.271264Z",
     "start_time": "2020-12-12T14:18:00.263254Z"
    }
   },
   "outputs": [],
   "source": [
    "arquivo_original = open(\"DBpediaRelations-PT-0.2.txt\", encoding=\"utf-8\")"
   ]
  },
  {
   "cell_type": "code",
   "execution_count": 3,
   "metadata": {
    "ExecuteTime": {
     "end_time": "2020-12-12T14:18:01.193351Z",
     "start_time": "2020-12-12T14:18:00.887088Z"
    }
   },
   "outputs": [],
   "source": [
    "texto_original = arquivo_original.readlines()"
   ]
  },
  {
   "cell_type": "code",
   "execution_count": 4,
   "metadata": {
    "ExecuteTime": {
     "end_time": "2020-12-12T14:18:02.368224Z",
     "start_time": "2020-12-12T14:18:02.240269Z"
    }
   },
   "outputs": [],
   "source": [
    "texto_original = \"\\n\".join(texto_original)"
   ]
  },
  {
   "cell_type": "code",
   "execution_count": 5,
   "metadata": {
    "ExecuteTime": {
     "end_time": "2020-12-12T14:18:02.485830Z",
     "start_time": "2020-12-12T14:18:02.386875Z"
    }
   },
   "outputs": [],
   "source": [
    "texto_original = texto_original.replace(\"****************************\\n\\nSENTENCE\",\"SENTENCE\")"
   ]
  },
  {
   "cell_type": "code",
   "execution_count": 6,
   "metadata": {
    "ExecuteTime": {
     "end_time": "2020-12-12T14:18:04.581553Z",
     "start_time": "2020-12-12T14:18:04.519408Z"
    }
   },
   "outputs": [],
   "source": [
    "chuncks = texto_original.split(\"****************************\\n\")"
   ]
  },
  {
   "cell_type": "code",
   "execution_count": 7,
   "metadata": {
    "ExecuteTime": {
     "end_time": "2020-12-12T14:18:05.431583Z",
     "start_time": "2020-12-12T14:18:05.425080Z"
    }
   },
   "outputs": [
    {
     "name": "stdout",
     "output_type": "stream",
     "text": [
      "SENTENCE : A América Latina localiza-se totalmente no hemisfério ocidental, sendo atravessada pelo Trópico de Câncer, que corta a parte central do México; pelo Equador, que passa pelo Brasil, Colômbia, Equador e toca o norte do Peru; e pelo Trópico de Capricórnio, que atravessa o Brasil, o Paraguai, a Argentina e o Chile.\n",
      "MANUALLY CHECKED : TRUE\n",
      "ENTITY1 : América Latina\n",
      "TYPE1 : LOCATION\n",
      "ENTITY2 : Argentina\n",
      "TYPE2 : LOCATION\n",
      "REL TYPE : locatedInArea\n"
     ]
    }
   ],
   "source": [
    "for s in chuncks[0].split('\\n'):\n",
    "    if len(s)>0: print(s)"
   ]
  },
  {
   "cell_type": "code",
   "execution_count": 21,
   "metadata": {
    "ExecuteTime": {
     "end_time": "2020-12-12T14:29:37.955893Z",
     "start_time": "2020-12-12T14:29:37.949912Z"
    }
   },
   "outputs": [],
   "source": [
    "def getEntityStartEnd(entity_name, tokens):\n",
    "    entity = {}\n",
    "    indices = []\n",
    "    for token1 in word_tokenize(entity_name):\n",
    "        for i in range(len(tokens)):\n",
    "            token2 = tokens[i]\n",
    "            if token1 == token2: indices.append(i)\n",
    "    if len(indices) == 0:\n",
    "        return None\n",
    "    novos_indices = []\n",
    "    novos_indices.append(indices[0])\n",
    "    for i in range(len(indices)-1):\n",
    "        if indices[i+1] == indices[i]+1:\n",
    "            novos_indices.append(indices[i+1])\n",
    "        else:\n",
    "            break\n",
    "    entity['start'] = min(novos_indices)\n",
    "    entity['end'] = max(novos_indices)+1\n",
    "    return entity"
   ]
  },
  {
   "cell_type": "code",
   "execution_count": 98,
   "metadata": {
    "ExecuteTime": {
     "end_time": "2020-12-12T18:54:10.874296Z",
     "start_time": "2020-12-12T18:53:31.100077Z"
    }
   },
   "outputs": [
    {
     "name": "stdout",
     "output_type": "stream",
     "text": [
      "94274\n"
     ]
    }
   ],
   "source": [
    "sentencas = []\n",
    "for chunck in chuncks:\n",
    "    sentenca = {'entities':[], 'relations':[]}\n",
    "    erro = False\n",
    "    for linha in chunck.split('\\n'):\n",
    "        if len(linha)>0 and not erro:\n",
    "            if linha.startswith(\"SENTENCE : \"): sentenca['tokens'] = word_tokenize(linha.replace(\"SENTENCE : \",\"\"))\n",
    "            if linha.startswith(\"MANUALLY CHECKED : \"): sentenca['manual'] = linha.replace(\"MANUALLY CHECKED : \",\"\") == 'TRUE'\n",
    "            if linha.startswith(\"ENTITY1 : \"):\n",
    "                entity = getEntityStartEnd(entity_name = linha.replace(\"ENTITY1 : \",\"\"),tokens= sentenca['tokens'])\n",
    "                erro = entity == None\n",
    "                sentenca['entities'].append(entity)\n",
    "            if linha.startswith(\"ENTITY2 : \"):\n",
    "                entity = getEntityStartEnd(entity_name = linha.replace(\"ENTITY2 : \",\"\"),tokens= sentenca['tokens'])\n",
    "                erro = entity == None\n",
    "                sentenca['entities'].append(entity)\n",
    "            if linha.startswith(\"TYPE1 : \"):\n",
    "                sentenca['entities'][0]['type'] = linha.replace(\"TYPE1 : \",\"\").strip()\n",
    "            if linha.startswith(\"TYPE2 : \"):\n",
    "                sentenca['entities'][1]['type'] = linha.replace(\"TYPE2 : \",\"\").strip()\n",
    "            if linha.startswith(\"REL TYPE : \"):\n",
    "                relation = linha.replace(\"REL TYPE : \",\"\").strip()\n",
    "                sentenca['relations'].append({'type':relation, 'head':0, 'tail':1})\n",
    "    if (not erro)\\\n",
    "        and (len(sentenca['relations']) > 0)\\\n",
    "        and ('type' in sentenca['entities'][0])\\\n",
    "        and ('type' in sentenca['entities'][1]):\n",
    "        sentencas.append(sentenca)\n",
    "print(len(sentencas))"
   ]
  },
  {
   "cell_type": "code",
   "execution_count": 99,
   "metadata": {
    "ExecuteTime": {
     "end_time": "2020-12-12T18:54:23.122488Z",
     "start_time": "2020-12-12T18:54:17.638787Z"
    }
   },
   "outputs": [],
   "source": [
    "with open(\"relextport_train_dev.json\", \"w\", encoding=\"utf8\") as arq:\n",
    "    json.dump(sentencas, arq, ensure_ascii=False)"
   ]
  },
  {
   "cell_type": "code",
   "execution_count": 100,
   "metadata": {
    "ExecuteTime": {
     "end_time": "2020-12-12T18:54:29.727576Z",
     "start_time": "2020-12-12T18:54:29.718568Z"
    }
   },
   "outputs": [
    {
     "data": {
      "text/plain": [
       "array([41832,  1785, 73671, ...,  2177, 77285, 86498])"
      ]
     },
     "execution_count": 100,
     "metadata": {},
     "output_type": "execute_result"
    }
   ],
   "source": [
    "np.random.seed(12345)\n",
    "array_sentencas = np.arange(len(sentencas))\n",
    "np.random.shuffle(array_sentencas)\n",
    "array_sentencas"
   ]
  },
  {
   "cell_type": "code",
   "execution_count": 101,
   "metadata": {
    "ExecuteTime": {
     "end_time": "2020-12-12T18:54:35.715031Z",
     "start_time": "2020-12-12T18:54:35.711036Z"
    }
   },
   "outputs": [],
   "source": [
    "qnt_sentencas = len(sentencas)\n",
    "idx_treino = array_sentencas[:(int(qnt_sentencas*0.7))]"
   ]
  },
  {
   "cell_type": "code",
   "execution_count": 102,
   "metadata": {
    "ExecuteTime": {
     "end_time": "2020-12-12T18:54:46.130974Z",
     "start_time": "2020-12-12T18:54:41.772409Z"
    }
   },
   "outputs": [
    {
     "name": "stdout",
     "output_type": "stream",
     "text": [
      "65991\n",
      "28283\n"
     ]
    }
   ],
   "source": [
    "sentencas_treino = []\n",
    "sentencas_teste = []\n",
    "for i in range(len(sentencas)):\n",
    "    if i in idx_treino:\n",
    "        sentencas_treino.append(sentencas[i])\n",
    "    else:\n",
    "        sentencas_teste.append(sentencas[i])\n",
    "print(len(sentencas_treino))\n",
    "print(len(sentencas_teste))\n",
    "    "
   ]
  },
  {
   "cell_type": "code",
   "execution_count": 103,
   "metadata": {
    "ExecuteTime": {
     "end_time": "2020-12-12T18:54:57.805862Z",
     "start_time": "2020-12-12T18:54:52.534710Z"
    }
   },
   "outputs": [],
   "source": [
    "with open(\"relextport_train.json\", \"w\", encoding=\"utf8\") as arq:\n",
    "    json.dump(sentencas_treino, arq, ensure_ascii=False)\n",
    "with open(\"relextport_dev.json\", \"w\", encoding=\"utf8\") as arq:\n",
    "    json.dump(sentencas_teste, arq, ensure_ascii=False)"
   ]
  },
  {
   "cell_type": "code",
   "execution_count": 104,
   "metadata": {
    "ExecuteTime": {
     "end_time": "2020-12-12T18:55:04.413628Z",
     "start_time": "2020-12-12T18:55:04.358565Z"
    }
   },
   "outputs": [
    {
     "name": "stdout",
     "output_type": "stream",
     "text": [
      "{'parent', 'deathOrBurialPlace', 'influencedBy', 'other', 'partOf', 'origin', 'partner', 'keyPerson', 'locatedInArea', 'successor'}\n"
     ]
    }
   ],
   "source": [
    "relations = set()\n",
    "for s in sentencas:\n",
    "    if len(s['relations']) > 0:\n",
    "        relations.add(s['relations'][0]['type'])\n",
    "    else:\n",
    "        print(s)\n",
    "print(relations)"
   ]
  },
  {
   "cell_type": "code",
   "execution_count": 106,
   "metadata": {
    "ExecuteTime": {
     "end_time": "2020-12-12T18:55:20.018182Z",
     "start_time": "2020-12-12T18:55:19.927621Z"
    }
   },
   "outputs": [
    {
     "name": "stdout",
     "output_type": "stream",
     "text": [
      "{'LOCATION', 'PERSON', 'ORGANIZATION'}\n"
     ]
    }
   ],
   "source": [
    "entities = set()\n",
    "for s in sentencas:\n",
    "    if (len(s['entities']) > 0) and ('type' in s['entities'][0].keys()) and ('type' in s['entities'][1].keys()) :\n",
    "        entities.add(s['entities'][0]['type'])\n",
    "        entities.add(s['entities'][1]['type'])\n",
    "    else:\n",
    "        print(s)\n",
    "print(entities)"
   ]
  },
  {
   "cell_type": "code",
   "execution_count": null,
   "metadata": {},
   "outputs": [],
   "source": []
  }
 ],
 "metadata": {
  "kernelspec": {
   "display_name": "Python 3",
   "language": "python",
   "name": "python3"
  },
  "language_info": {
   "codemirror_mode": {
    "name": "ipython",
    "version": 3
   },
   "file_extension": ".py",
   "mimetype": "text/x-python",
   "name": "python",
   "nbconvert_exporter": "python",
   "pygments_lexer": "ipython3",
   "version": "3.7.3"
  },
  "varInspector": {
   "cols": {
    "lenName": 16,
    "lenType": 16,
    "lenVar": 40
   },
   "kernels_config": {
    "python": {
     "delete_cmd_postfix": "",
     "delete_cmd_prefix": "del ",
     "library": "var_list.py",
     "varRefreshCmd": "print(var_dic_list())"
    },
    "r": {
     "delete_cmd_postfix": ") ",
     "delete_cmd_prefix": "rm(",
     "library": "var_list.r",
     "varRefreshCmd": "cat(var_dic_list()) "
    }
   },
   "types_to_exclude": [
    "module",
    "function",
    "builtin_function_or_method",
    "instance",
    "_Feature"
   ],
   "window_display": false
  }
 },
 "nbformat": 4,
 "nbformat_minor": 4
}
